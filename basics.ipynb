{
 "cells": [
  {
   "cell_type": "markdown",
   "source": [
    "# Basics: Tensors & Gradients\r\n",
    "Pytorch is library for processing tensors.\r\n",
    "Tensor: Any n-dimensional array - can be a vector, matrix, .."
   ],
   "metadata": {}
  },
  {
   "cell_type": "code",
   "execution_count": null,
   "source": [
    "import torch  # importing torch library\r\n",
    "\r\n",
    "t1=torch.tensor(4.0) # defining a tensor of element 4\r\n",
    "\r\n",
    "t1.dtype\r\n",
    "\r\n",
    "t2=torch.tensor([1,2.,3,4])\r\n",
    "print(t2)\r\n",
    "\r\n",
    "t3=torch.tensor([[1,3],[4,5]])\r\n",
    "t3"
   ],
   "outputs": [],
   "metadata": {}
  },
  {
   "cell_type": "markdown",
   "source": [
    "To inspect the shape in any direction, we can make use of shape method."
   ],
   "metadata": {}
  },
  {
   "cell_type": "code",
   "execution_count": null,
   "source": [
    "t3.shape # list of lengths in all directions\r\n",
    "t3.shape[0]"
   ],
   "outputs": [],
   "metadata": {}
  },
  {
   "cell_type": "markdown",
   "source": [
    "## Tensor Operations and Gradeients\r\n",
    "We can perform all arithmetic operations on tensors of any dimension. "
   ],
   "metadata": {}
  },
  {
   "cell_type": "code",
   "execution_count": null,
   "source": [
    "# create tensors\r\n",
    "x=torch.tensor(3.)\r\n",
    "w=torch.tensor(4.,requires_grad=True)\r\n",
    "b=torch.tensor(5.,requires_grad=True) # required_grad should be set\r\n",
    "                                # to True to record gradient values\r\n",
    "\r\n",
    "# Arithmetic operaions\r\n",
    "y=x*w+b\r\n",
    "\r\n",
    "y.backward() # calculates the derivatives and stores them in .grad property\r\n",
    "\r\n",
    "# Display gradients\r\n",
    "print('dy/dx=',x.grad)  # this comes None as requirede_grad=False\r\n",
    "print('dy/dw=',w.grad)\r\n",
    "print('dy/db=',b.grad)\r\n"
   ],
   "outputs": [],
   "metadata": {}
  },
  {
   "cell_type": "markdown",
   "source": [
    "## Compatibility with Numpy\r\n",
    "It has large supporting libraries like opencv, matplotlib, ...\r\n",
    "\r\n",
    "Pytorch tensors -- effectively work with GPUs -- written in cuda\r\n",
    "numpy arrays -- effectively work with CPUs\r\n",
    "\r\n",
    "We use pytorch to move data to GPU and then perform operations"
   ],
   "metadata": {}
  },
  {
   "cell_type": "code",
   "execution_count": null,
   "source": [
    "import numpy as np\r\n",
    "\r\n",
    "x=np.array([[1,2],[3.,4.]])\r\n",
    "y=torch.from_numpy(x)\r\n",
    "z=y.numpy()\r\n",
    "x.dtype\r\n",
    "y.dtype"
   ],
   "outputs": [],
   "metadata": {}
  }
 ],
 "metadata": {
  "orig_nbformat": 4,
  "language_info": {
   "name": "python",
   "version": "3.8.12",
   "mimetype": "text/x-python",
   "codemirror_mode": {
    "name": "ipython",
    "version": 3
   },
   "pygments_lexer": "ipython3",
   "nbconvert_exporter": "python",
   "file_extension": ".py"
  },
  "kernelspec": {
   "name": "python3",
   "display_name": "Python 3.8.12 64-bit ('d2l': conda)"
  },
  "interpreter": {
   "hash": "7c877cb1dc69887a781da5fe536b23bc22a34eecea45956f1369141ed92bf498"
  }
 },
 "nbformat": 4,
 "nbformat_minor": 2
}
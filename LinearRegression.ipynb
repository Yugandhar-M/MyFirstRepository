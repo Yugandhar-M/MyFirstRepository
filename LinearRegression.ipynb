{
 "cells": [
  {
   "cell_type": "markdown",
   "source": [
    "# Linear Regression in Pytorch"
   ],
   "metadata": {}
  },
  {
   "cell_type": "markdown",
   "source": [
    "## Training Data"
   ],
   "metadata": {}
  },
  {
   "cell_type": "code",
   "execution_count": null,
   "source": [
    "import numpy as np\r\n",
    "import torch \r\n",
    "\r\n",
    "# \r\n",
    "inputs=np.array([[73,67,43],[91,88,64],[87,134,58],\r\n",
    "                [102,43,37],[69,96,70]],dtype='float32')\r\n",
    "\r\n",
    "#\r\n",
    "targets=np.array([[56,70],[81,101],[119,133],[22,37],[103,119]],dtype='float32')\r\n",
    "\r\n",
    "inputs=torch.from_numpy(inputs)\r\n",
    "targets=torch.from_numpy(targets)\r\n",
    "print(inputs)\r\n",
    "print(targets)"
   ],
   "outputs": [],
   "metadata": {}
  },
  {
   "cell_type": "markdown",
   "source": [
    "## Building Linear Regression Model\r\n",
    "This part includes definition and initialization of weights and biases.\r\n",
    "After that, we can will define the model."
   ],
   "metadata": {}
  },
  {
   "cell_type": "code",
   "execution_count": null,
   "source": [
    "w=torch.randn(2,3,requires_grad=True)\r\n",
    "b=torch.randn(2,requires_grad=True)  # this is just a vector(can be row or column\r\n",
    "                                     # -- only length is given)\r\n",
    "\r\n",
    "def model(x):\r\n",
    "    return x@w.t()+b \r\n"
   ],
   "outputs": [],
   "metadata": {}
  },
  {
   "cell_type": "code",
   "execution_count": null,
   "source": [
    "pred=model(inputs)\r\n",
    "print(pred)\r\n",
    "print(targets)"
   ],
   "outputs": [],
   "metadata": {}
  },
  {
   "cell_type": "code",
   "execution_count": null,
   "source": [
    "def mse(t1,t2):\r\n",
    "    diff=t1-t2\r\n",
    "    return torch.sum(diff*diff)/diff.numel()  # * is an element wise multiplication\r\n",
    "loss=mse(pred,targets)\r\n",
    "print(loss)"
   ],
   "outputs": [],
   "metadata": {}
  },
  {
   "cell_type": "code",
   "execution_count": null,
   "source": [
    "# Computing Gradients\r\n",
    "loss.backward()\r\n",
    "\r\n",
    "print(w)\r\n",
    "print(w.grad) "
   ],
   "outputs": [],
   "metadata": {}
  },
  {
   "cell_type": "code",
   "execution_count": null,
   "source": [
    "print(b)\r\n",
    "print(b.grad)"
   ],
   "outputs": [],
   "metadata": {}
  },
  {
   "cell_type": "code",
   "execution_count": null,
   "source": [
    "w.grad.zero_()\r\n",
    "b.grad.zero_()\r\n",
    "print(w.grad)\r\n",
    "print(b.grad)"
   ],
   "outputs": [],
   "metadata": {}
  },
  {
   "cell_type": "code",
   "execution_count": null,
   "source": [
    "with torch.no_grad():\r\n",
    "    w-=w.grad*1e-5\r\n",
    "    b-=b.grad*1e-5\r\n",
    "    w.grad.zero_()\r\n",
    "    b.grad.zero_()"
   ],
   "outputs": [],
   "metadata": {}
  },
  {
   "cell_type": "code",
   "execution_count": null,
   "source": [
    "print(w)\r\n",
    "print(b)"
   ],
   "outputs": [],
   "metadata": {}
  },
  {
   "cell_type": "markdown",
   "source": [
    "## Training for Multiple Epochs"
   ],
   "metadata": {}
  },
  {
   "cell_type": "code",
   "execution_count": null,
   "source": [
    "for i in range(200):\r\n",
    "    preds=model(inputs)\r\n",
    "    loss=mse(preds,targets)\r\n",
    "    loss.backward()\r\n",
    "    with torch.no_grad():\r\n",
    "        w-=w.grad*1e-5\r\n",
    "        b-=b.grad*1e-5\r\n",
    "        w.grad.zero_()\r\n",
    "        b.grad.zero_()"
   ],
   "outputs": [],
   "metadata": {}
  },
  {
   "cell_type": "code",
   "execution_count": null,
   "source": [
    "pred=model(inputs)\r\n",
    "loss=mse(pred,targets)\r\n",
    "print(loss)"
   ],
   "outputs": [],
   "metadata": {}
  },
  {
   "cell_type": "code",
   "execution_count": null,
   "source": [
    "print(loss)\r\n",
    "print(pred)\r\n",
    "print(targ)"
   ],
   "outputs": [],
   "metadata": {}
  },
  {
   "cell_type": "markdown",
   "source": [
    "## Linear Regression using PyTorch built-ins "
   ],
   "metadata": {}
  },
  {
   "cell_type": "code",
   "execution_count": null,
   "source": [
    "import torch.nn as nn\r\n",
    "\r\n",
    "# Input (temp, rainfall, humidity)\r\n",
    "inputs = np.array([[73, 67, 43], \r\n",
    "                   [91, 88, 64], \r\n",
    "                   [87, 134, 58], \r\n",
    "                   [102, 43, 37], \r\n",
    "                   [69, 96, 70], \r\n",
    "                   [74, 66, 43], \r\n",
    "                   [91, 87, 65], \r\n",
    "                   [88, 134, 59], \r\n",
    "                   [101, 44, 37], \r\n",
    "                   [68, 96, 71], \r\n",
    "                   [73, 66, 44], \r\n",
    "                   [92, 87, 64], \r\n",
    "                   [87, 135, 57], \r\n",
    "                   [103, 43, 36], \r\n",
    "                   [68, 97, 70]], \r\n",
    "                  dtype='float32')\r\n",
    "\r\n",
    "# Targets (apples, oranges)\r\n",
    "targets = np.array([[56, 70], \r\n",
    "                    [81, 101], \r\n",
    "                    [119, 133], \r\n",
    "                    [22, 37], \r\n",
    "                    [103, 119],\r\n",
    "                    [57, 69], \r\n",
    "                    [80, 102], \r\n",
    "                    [118, 132], \r\n",
    "                    [21, 38], \r\n",
    "                    [104, 118], \r\n",
    "                    [57, 69], \r\n",
    "                    [82, 100], \r\n",
    "                    [118, 134], \r\n",
    "                    [20, 38], \r\n",
    "                    [102, 120]], \r\n",
    "                   dtype='float32')\r\n",
    "\r\n",
    "inputs = torch.from_numpy(inputs)\r\n",
    "targets = torch.from_numpy(targets)"
   ],
   "outputs": [],
   "metadata": {}
  },
  {
   "cell_type": "markdown",
   "source": [
    "## Dataset and DataLoader"
   ],
   "metadata": {}
  },
  {
   "cell_type": "code",
   "execution_count": null,
   "source": [
    "from torch.utils.data import TensorDataset\r\n",
    "\r\n",
    "# Define dataset\r\n",
    "train_ds=TensorDataset(inputs,targets)\r\n",
    "train_ds[0:3]"
   ],
   "outputs": [],
   "metadata": {}
  },
  {
   "cell_type": "code",
   "execution_count": null,
   "source": [
    "from torch.utils.data import DataLoader\r\n",
    "\r\n",
    "batch_size=5\r\n",
    "train_dl=DataLoader(train_ds,batch_size,shuffle=True)\r\n"
   ],
   "outputs": [],
   "metadata": {}
  },
  {
   "cell_type": "code",
   "execution_count": null,
   "source": [
    "for xb,yb in train_dl:\r\n",
    "    print(xb)\r\n",
    "    print(yb)\r\n",
    "    break"
   ],
   "outputs": [],
   "metadata": {}
  },
  {
   "cell_type": "code",
   "execution_count": null,
   "source": [
    "# Define model\r\n",
    "model=nn.Linear(3,2)  # dimensions of input and target tensors for each data point\r\n",
    "print(model.weight)\r\n",
    "print(model.bias)\r\n"
   ],
   "outputs": [],
   "metadata": {}
  },
  {
   "cell_type": "code",
   "execution_count": null,
   "source": [
    "list(model.parameters())"
   ],
   "outputs": [],
   "metadata": {}
  },
  {
   "cell_type": "code",
   "execution_count": null,
   "source": [
    "# Generate Predictions\r\n",
    "preds=model(inputs)\r\n",
    "preds"
   ],
   "outputs": [],
   "metadata": {}
  },
  {
   "cell_type": "code",
   "execution_count": null,
   "source": [
    "import torch.nn.functional as F\r\n",
    "\r\n",
    "loss_fn=F.mse_loss"
   ],
   "outputs": [],
   "metadata": {}
  },
  {
   "cell_type": "code",
   "execution_count": null,
   "source": [
    "# to get documentaion\r\n",
    "?F.mse_loss"
   ],
   "outputs": [],
   "metadata": {}
  },
  {
   "cell_type": "code",
   "execution_count": null,
   "source": [
    "loss=loss_fn(model(inputs),targets)\r\n",
    "print(loss)"
   ],
   "outputs": [],
   "metadata": {}
  },
  {
   "cell_type": "markdown",
   "source": [
    "## Optimizer"
   ],
   "metadata": {}
  },
  {
   "cell_type": "code",
   "execution_count": null,
   "source": [
    "opt= torch.optim.SGD(model.parameters(),lr=1e-5)\r\n"
   ],
   "outputs": [],
   "metadata": {}
  },
  {
   "cell_type": "markdown",
   "source": [
    "## Train the Model"
   ],
   "metadata": {}
  },
  {
   "cell_type": "code",
   "execution_count": null,
   "source": [
    "def fit(num_epochs,model,loss_functioin,opt):\r\n",
    "    for epoch in range(num_epochs):\r\n",
    "        for xb,yb in train_dl:\r\n",
    "            pred=model(xb)\r\n",
    "            loss=loss_fn(pred,yb)\r\n",
    "            loss.backward()\r\n",
    "            opt.step()  # weights updation\r\n",
    "            opt.zero_grad()  # setting gradients back to zero\r\n",
    "        if epoch%10==0:\r\n",
    "            print(epoch,loss.item())\r\n",
    "\r\n",
    "fit(100,model,loss_fn,opt)"
   ],
   "outputs": [],
   "metadata": {}
  },
  {
   "cell_type": "code",
   "execution_count": null,
   "source": [
    "preds=model(inputs)\r\n",
    "print(preds)\r\n",
    "print(targets)"
   ],
   "outputs": [],
   "metadata": {}
  }
 ],
 "metadata": {
  "orig_nbformat": 4,
  "language_info": {
   "name": "python",
   "version": "3.8.12",
   "mimetype": "text/x-python",
   "codemirror_mode": {
    "name": "ipython",
    "version": 3
   },
   "pygments_lexer": "ipython3",
   "nbconvert_exporter": "python",
   "file_extension": ".py"
  },
  "kernelspec": {
   "name": "python3",
   "display_name": "Python 3.8.12 64-bit ('d2l': conda)"
  },
  "interpreter": {
   "hash": "7c877cb1dc69887a781da5fe536b23bc22a34eecea45956f1369141ed92bf498"
  }
 },
 "nbformat": 4,
 "nbformat_minor": 2
}